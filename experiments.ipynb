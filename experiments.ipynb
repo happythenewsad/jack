{
 "cells": [
  {
   "cell_type": "code",
   "execution_count": null,
   "metadata": {},
   "outputs": [],
   "source": [
    "### THIS IS A DEMO/TUTORIAL FILE ###"
   ]
  },
  {
   "cell_type": "code",
   "execution_count": 2,
   "metadata": {},
   "outputs": [],
   "source": [
    "# load lib\n",
    "import sys\n",
    "sys.path.insert(1, \"./lib\")"
   ]
  },
  {
   "cell_type": "code",
   "execution_count": 4,
   "metadata": {},
   "outputs": [
    {
     "name": "stdout",
     "output_type": "stream",
     "text": [
      "0\n",
      "1\n",
      "2\n",
      "3\n",
      "4\n",
      "5\n",
      "6\n",
      "7\n",
      "8\n",
      "9\n"
     ]
    }
   ],
   "source": [
    "from Jack import Jack\n",
    "from Player import Player\n",
    "\n",
    "# does player position matter?\n",
    "\n",
    "p1 = Player()\n",
    "p2 = Player() \n",
    "p3 = Player()\n",
    "p4 = Player()\n",
    "p5 = Player()\n",
    "\n",
    "players = [p1,p2,p3,p4,p5]\n",
    "netWins = {}\n",
    "\n",
    "for i in range(10):\n",
    "    print(\"{0}\".format(i))\n",
    "    Jack.n_games(players, 100000)  \n",
    "    for idx,player in enumerate(players):\n",
    "        if idx not in netWins:\n",
    "            netWins[idx] = [] \n",
    "        netWins[idx].append((sum(player.recent_winloss),player.units_spent))\n",
    "        player.reset()\n",
    "\n",
    "# for key in netWins:\n",
    "#     print(\"{0}'s average loss: {1}\".format(key, sum(netWins[key])/len(netWins.keys()) ))\n",
    "    \n",
    "# 0's average loss: -1305.8\n",
    "# 1's average loss: -1558.5\n",
    "# 2's average loss: -1307.0\n",
    "# 3's average loss: -1432.3\n",
    "# 4's average loss: -1328.4"
   ]
  },
  {
   "cell_type": "code",
   "execution_count": 8,
   "metadata": {},
   "outputs": [
    {
     "name": "stdout",
     "output_type": "stream",
     "text": [
      "loss as percentage of units bet, per player:\n",
      "\n",
      "0: 0.5332588867646487%\n",
      "1: 0.5114666817505293%\n",
      "2: 0.46324147124219206%\n",
      "3: 0.5136874356179002%\n",
      "4: 0.3437481767246638%\n"
     ]
    }
   ],
   "source": [
    "print(\"loss as percentage of units bet, per player:\\n\")\n",
    "for key in netWins:\n",
    "    agg_winloss = sum([tup[0] for tup in netWins[key]])\n",
    "    agg_units_spent = sum([tup[1] for tup in netWins[key]])\n",
    "    agg_loss_ratio = (agg_units_spent-agg_winloss) / agg_units_spent\n",
    "    print(\"{0}: {1}%\".format(key, agg_loss_ratio*100))\n",
    "    \n",
    "# 0: 0.5332588867646487%\n",
    "# 1: 0.5114666817505293%\n",
    "# 2: 0.46324147124219206%\n",
    "# 3: 0.5136874356179002%\n",
    "# 4: 0.3437481767246638%\n"
   ]
  },
  {
   "cell_type": "code",
   "execution_count": null,
   "metadata": {},
   "outputs": [],
   "source": [
    "from Jack import Jack\n",
    "from Player import Player\n",
    "\n",
    "# What is the standard deviation of outcomes for player5 over k runs?\n",
    "\n",
    "p1 = Player()\n",
    "p2 = Player() \n",
    "p3 = Player()\n",
    "p4 = Player()\n",
    "p5 = Player()\n",
    "\n",
    "players = [p1,p2,p3,p4,p5]\n",
    "netWins = {}\n",
    "\n",
    "for i in range(10):\n",
    "    print(\"{0}\".format(i))\n",
    "    Jack.n_games(players, 100000)  \n",
    "    for idx,player in enumerate(players):\n",
    "        if idx not in netWins:\n",
    "            netWins[idx] = [] \n",
    "        netWins[idx].append(sum(player.recent_winloss) - player.units_spent)\n",
    "        player.reset()"
   ]
  },
  {
   "cell_type": "code",
   "execution_count": 17,
   "metadata": {},
   "outputs": [
    {
     "data": {
      "text/plain": [
       "275.7256063553039"
      ]
     },
     "execution_count": 17,
     "metadata": {},
     "output_type": "execute_result"
    }
   ],
   "source": [
    "import numpy as np\n",
    "#print(netWins[4])\n",
    "netWinsnp = np.array(netWins[4])\n",
    "netWinsnp.std()\n",
    "\n",
    "# STD is 275.7"
   ]
  },
  {
   "cell_type": "code",
   "execution_count": 1,
   "metadata": {},
   "outputs": [
    {
     "name": "stdout",
     "output_type": "stream",
     "text": [
      "i=0\n",
      "i=5\n",
      "i=10\n",
      "i=15\n",
      "i=20\n",
      "i=25\n",
      "i=30\n",
      "i=35\n",
      "i=40\n"
     ]
    }
   ],
   "source": [
    "# how many 2-6 cards need to be removed from shoe before loss turns positive?\n",
    "\n",
    "# 12/52 cards per deck are 10s, so default ratio is 23.1%\n",
    "# exist 96 10-cards per shoe\n",
    "\n",
    "# note: this is just discovery phase, as it doesn't reflect real casino conditions\n",
    "\n",
    "\n",
    "from Jack import Jack\n",
    "from Shoe import Shoe\n",
    "from Player import Player\n",
    "import numpy as np\n",
    "\n",
    "p1 = Player()\n",
    "p2 = Player() \n",
    "p3 = Player()\n",
    "p4 = Player()\n",
    "p5 = Player()\n",
    "players = [p1,p2,p3,p4,p5]\n",
    "netWins = {}\n",
    "lowCards = set([2,3,4,5,6])\n",
    "\n",
    "for i in [0,5,10,15,20,25,30,35,40]:\n",
    "    print(\"i={0}\".format(i))\n",
    "    # shoe is about 20 games, so 100k/20 is 5000\n",
    "    for j in range(5000): # 5000\n",
    "        shoe = Shoe()\n",
    "        success = shoe.removeCards(lowCards,i)\n",
    "        if not success:\n",
    "            print(\"i = {0}, could not remove cards\".format(i))\n",
    "        Jack.play_shoe(players, shoe)\n",
    "\n",
    "    for idx,player in enumerate(players):\n",
    "        if idx not in netWins:\n",
    "            netWins[idx] = [] \n",
    "        netWins[idx].append((sum(player.recent_winloss),player.units_spent))\n",
    "        #print(\"hands played for player {0} in epoch {1}: {2}\".format(idx, i, len(player.recent_winloss)))\n",
    "        player.reset()\n",
    "        \n",
    "#print(netWins)\n"
   ]
  },
  {
   "cell_type": "code",
   "execution_count": 3,
   "metadata": {},
   "outputs": [
    {
     "name": "stdout",
     "output_type": "stream",
     "text": [
      "loss as percentage of units bet, per player:\n",
      "\n",
      "0: -0.005162261898301406%\n",
      "1: -0.00837028937771228%\n",
      "2: -0.008755081680161257%\n",
      "3: -0.004288770416652518%\n",
      "4: -0.008427213966453923%\n",
      "\n",
      "-------\n",
      "0: -0.0022182603627387116%\n",
      "1: -0.0025319665054065535%\n",
      "2: -0.0041393962238289415%\n",
      "3: -0.0023067734007057627%\n",
      "4: -0.0066589858590846126%\n",
      "\n",
      "-------\n",
      "0: 0.0011691618009242604%\n",
      "1: 0.003952883564581056%\n",
      "2: 0.0014308524977707732%\n",
      "3: -0.0006249956837314659%\n",
      "4: 0.00030061158909505545%\n",
      "\n",
      "-------\n",
      "0: 0.00872754428330146%\n",
      "1: 0.000996849120263224%\n",
      "2: 0.007437405899737914%\n",
      "3: 0.002837320006421487%\n",
      "4: 0.0015887759092686742%\n",
      "\n",
      "-------\n",
      "0: 0.0048539591423265235%\n",
      "1: 0.002012644889357218%\n",
      "2: 0.004727308566882792%\n",
      "3: -0.001362925606096891%\n",
      "4: 0.0019470734043152498%\n",
      "\n",
      "-------\n",
      "0: 0.006353795229503772%\n",
      "1: 0.0060657717167412455%\n",
      "2: 0.004358677180582911%\n",
      "3: 0.006184636808002728%\n",
      "4: 0.005627813020519545%\n",
      "\n",
      "-------\n",
      "0: 0.011408669729044094%\n",
      "1: 0.009965978582297379%\n",
      "2: 0.008633857053732135%\n",
      "3: 0.00990390131956397%\n",
      "4: 0.010441076355297575%\n",
      "\n",
      "-------\n",
      "0: 0.017873815710428988%\n",
      "1: 0.011350643335793786%\n",
      "2: 0.007273699112998758%\n",
      "3: 0.012966186785324733%\n",
      "4: 0.012009434438585988%\n",
      "\n",
      "-------\n",
      "0: 0.013557685979422153%\n",
      "1: 0.013082783508912623%\n",
      "2: 0.015289048316892321%\n",
      "3: 0.016387284080298787%\n",
      "4: 0.010767557942670326%\n",
      "\n",
      "-------\n"
     ]
    }
   ],
   "source": [
    "#baseline expected loss from above: 0.5136874356179002%\n",
    "\n",
    "# RESULT: most players break even epoch 3, or k=10 low cards.\n",
    "# -> 23.6%\n",
    "# normal 10-card ratio: 23.1%\n",
    "\n",
    "\n",
    "print(\"loss as percentage of units bet, per player:\\n\")\n",
    "\n",
    "for i in range(len(netWins[0])):\n",
    "    for key in netWins:\n",
    "        agg_winloss = netWins[key][i][0]\n",
    "        agg_units_spent = netWins[key][i][1]\n",
    "        agg_loss_ratio = (agg_winloss-agg_units_spent) / agg_units_spent\n",
    "        print(\"{0}: {1}%\".format(key, agg_loss_ratio))\n",
    "    print(\"\\n-------\")\n",
    "    \n",
    "\n",
    "    "
   ]
  },
  {
   "cell_type": "code",
   "execution_count": null,
   "metadata": {},
   "outputs": [],
   "source": []
  },
  {
   "cell_type": "code",
   "execution_count": null,
   "metadata": {},
   "outputs": [],
   "source": [
    "# net_wins =  sum(player.recent_winloss) - player.units_spent\n",
    "# pct_loss = net_wins/p1.units_spent\n",
    "\n",
    "# print(\"player's money bet: {0} \\n money won: {1} \\n net wins: {2}\".format(player.units_spent, sum(player.recent_winloss), net_wins))\n",
    "# print(\"pct loss: {0}\".format(pct_loss))"
   ]
  }
 ],
 "metadata": {
  "kernelspec": {
   "display_name": "Python 3",
   "language": "python",
   "name": "python3"
  },
  "language_info": {
   "codemirror_mode": {
    "name": "ipython",
    "version": 3
   },
   "file_extension": ".py",
   "mimetype": "text/x-python",
   "name": "python",
   "nbconvert_exporter": "python",
   "pygments_lexer": "ipython3",
   "version": "3.6.3"
  }
 },
 "nbformat": 4,
 "nbformat_minor": 2
}
